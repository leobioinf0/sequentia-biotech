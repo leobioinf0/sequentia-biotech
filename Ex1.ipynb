{
  "nbformat": 4,
  "nbformat_minor": 0,
  "metadata": {
    "colab": {
      "name": "Ex1.ipynb",
      "provenance": [],
      "collapsed_sections": [],
      "include_colab_link": true
    },
    "kernelspec": {
      "display_name": "Python 3",
      "name": "python3"
    },
    "language_info": {
      "name": "python"
    }
  },
  "cells": [
    {
      "cell_type": "markdown",
      "metadata": {
        "id": "view-in-github",
        "colab_type": "text"
      },
      "source": [
        "<a href=\"https://colab.research.google.com/github/leobioinf0/sequentia-biotech/blob/main/Ex1.ipynb\" target=\"_parent\"><img src=\"https://colab.research.google.com/assets/colab-badge.svg\" alt=\"Open In Colab\"/></a>"
      ]
    },
    {
      "cell_type": "markdown",
      "metadata": {
        "id": "-xUaEtp-8lkH"
      },
      "source": [
        "## Exercise 1\n",
        "\n",
        "using the attached file `Variants_file.vcf.gz`\n"
      ]
    },
    {
      "cell_type": "markdown",
      "metadata": {
        "id": "JTinHDMVUnnd"
      },
      "source": [
        "### 1. Which program was used to generate the `VCF` file? Describe how you obtained this information."
      ]
    },
    {
      "cell_type": "markdown",
      "metadata": {
        "id": "xKOqk0ku-xyi"
      },
      "source": [
        "We download the file."
      ]
    },
    {
      "cell_type": "code",
      "metadata": {
        "id": "oLaZG9ehvCZb",
        "colab": {
          "base_uri": "https://localhost:8080/"
        },
        "outputId": "85b2bf87-1f32-4d90-f012-f3f5ea329199"
      },
      "source": [
        "!wget https://raw.githubusercontent.com/leobioinf0/sequentia-biotech/main/Variants_file.vcf.gz"
      ],
      "execution_count": 1,
      "outputs": [
        {
          "output_type": "stream",
          "name": "stdout",
          "text": [
            "--2021-10-13 14:20:43--  https://raw.githubusercontent.com/leobioinf0/sequentia-biotech/main/Variants_file.vcf.gz\n",
            "Resolving raw.githubusercontent.com (raw.githubusercontent.com)... 185.199.108.133, 185.199.109.133, 185.199.110.133, ...\n",
            "Connecting to raw.githubusercontent.com (raw.githubusercontent.com)|185.199.108.133|:443... connected.\n",
            "HTTP request sent, awaiting response... 200 OK\n",
            "Length: 2595852 (2.5M) [application/octet-stream]\n",
            "Saving to: ‘Variants_file.vcf.gz’\n",
            "\n",
            "Variants_file.vcf.g 100%[===================>]   2.48M  --.-KB/s    in 0.07s   \n",
            "\n",
            "2021-10-13 14:20:44 (37.2 MB/s) - ‘Variants_file.vcf.gz’ saved [2595852/2595852]\n",
            "\n"
          ]
        }
      ]
    },
    {
      "cell_type": "markdown",
      "metadata": {
        "id": "Muu6i8tmCBiV"
      },
      "source": [
        "We will use the \"PyVCF\" module."
      ]
    },
    {
      "cell_type": "code",
      "metadata": {
        "id": "kasFVWbIAvQ5",
        "colab": {
          "base_uri": "https://localhost:8080/"
        },
        "outputId": "6696c365-7cde-4666-af01-b33a3c5a5a6e"
      },
      "source": [
        "# PyVCF installation\n",
        "!pip install PyVCF"
      ],
      "execution_count": 2,
      "outputs": [
        {
          "output_type": "stream",
          "name": "stdout",
          "text": [
            "Collecting PyVCF\n",
            "  Downloading PyVCF-0.6.8.tar.gz (34 kB)\n",
            "Requirement already satisfied: setuptools in /usr/local/lib/python3.7/dist-packages (from PyVCF) (57.4.0)\n",
            "Building wheels for collected packages: PyVCF\n",
            "  Building wheel for PyVCF (setup.py) ... \u001b[?25l\u001b[?25hdone\n",
            "  Created wheel for PyVCF: filename=PyVCF-0.6.8-cp37-cp37m-linux_x86_64.whl size=124100 sha256=b41d8d000d7bd31839f27a5afac517c079cc12314083ecf52fb7e645253e4186\n",
            "  Stored in directory: /root/.cache/pip/wheels/8a/60/8d/fe98f8401a0bb73b44afbbc454d1d7fe11a0a2081f5b899597\n",
            "Successfully built PyVCF\n",
            "Installing collected packages: PyVCF\n",
            "Successfully installed PyVCF-0.6.8\n"
          ]
        }
      ]
    },
    {
      "cell_type": "markdown",
      "metadata": {
        "id": "7E9AZy6JCD6g"
      },
      "source": [
        "We import the necessary modules."
      ]
    },
    {
      "cell_type": "code",
      "metadata": {
        "id": "w03-T32QqeGO"
      },
      "source": [
        "import vcf\n",
        "from IPython.display import IFrame\n",
        "import pandas as pd\n",
        "%load_ext rpy2.ipython"
      ],
      "execution_count": 3,
      "outputs": []
    },
    {
      "cell_type": "markdown",
      "metadata": {
        "id": "cV9huh0PCGnQ"
      },
      "source": [
        "We read the file \"Variants_file.vcf.gz\"."
      ]
    },
    {
      "cell_type": "code",
      "metadata": {
        "id": "zBoqMv69S5L_"
      },
      "source": [
        "vcf_reader = vcf.Reader(filename = \"Variants_file.vcf.gz\", compressed = True)"
      ],
      "execution_count": 4,
      "outputs": []
    },
    {
      "cell_type": "markdown",
      "metadata": {
        "id": "_xBbZC0hCJtW"
      },
      "source": [
        "we can obtain the program that has been used by reading the metadata source."
      ]
    },
    {
      "cell_type": "code",
      "metadata": {
        "colab": {
          "base_uri": "https://localhost:8080/"
        },
        "id": "ZLNz4B6UTFJs",
        "outputId": "20dea495-60b5-4e81-e12f-8f15f73c3679"
      },
      "source": [
        "src = vcf_reader.metadata[\"source\"][0]\n",
        "print(\"VCF file generated by:\\t{}\".format(src))"
      ],
      "execution_count": 5,
      "outputs": [
        {
          "output_type": "stream",
          "name": "stdout",
          "text": [
            "VCF file generated by:\tfreeBayes v1.3.2-dirty\n"
          ]
        }
      ]
    },
    {
      "cell_type": "markdown",
      "metadata": {
        "id": "dUGmSfjPJ6p9"
      },
      "source": [
        "### 2. What is the size of the reference genome used for the analysis? Describe how you calculated it."
      ]
    },
    {
      "cell_type": "markdown",
      "metadata": {
        "id": "zvFyQP3FCN4Q"
      },
      "source": [
        "We can obtain an estimate of the size of the genome by summing the length of all the contigs."
      ]
    },
    {
      "cell_type": "code",
      "metadata": {
        "colab": {
          "base_uri": "https://localhost:8080/"
        },
        "id": "JQR2ecxOH8TS",
        "outputId": "a75c7697-de7a-483c-fcfd-7fbf741b68ad"
      },
      "source": [
        "total = sum(contig.length for contig in vcf_reader.contigs.values())/10**6\n",
        "print(\"total length (Mb): {}\".format(round(total,2)))"
      ],
      "execution_count": 6,
      "outputs": [
        {
          "output_type": "stream",
          "name": "stdout",
          "text": [
            "total length (Mb): 687.46\n"
          ]
        }
      ]
    },
    {
      "cell_type": "markdown",
      "metadata": {
        "id": "uq6P5wH6CTwO"
      },
      "source": [
        "If we assume that Xiphias gladius (assembly ASM1685928v1) was used, we can check its size in the ncbi database."
      ]
    },
    {
      "cell_type": "markdown",
      "metadata": {
        "id": "3RQBEgy9vh1r"
      },
      "source": [
        "[Xiphias gladius (assembly ASM1685928v1)](https://www.ncbi.nlm.nih.gov/genome/8987)\n",
        "\n",
        "total length (Mb): 691.78"
      ]
    },
    {
      "cell_type": "code",
      "metadata": {
        "colab": {
          "base_uri": "https://localhost:8080/",
          "height": 621
        },
        "id": "zaNFRetR3VUe",
        "outputId": "7bd5abcf-ead0-4f79-8533-b1342e8aabae"
      },
      "source": [
        "IFrame(src=\"https://www.ncbi.nlm.nih.gov/genome/8987\", width=700, height=600)"
      ],
      "execution_count": 7,
      "outputs": [
        {
          "output_type": "execute_result",
          "data": {
            "text/html": [
              "\n",
              "        <iframe\n",
              "            width=\"700\"\n",
              "            height=\"600\"\n",
              "            src=\"https://www.ncbi.nlm.nih.gov/genome/8987\"\n",
              "            frameborder=\"0\"\n",
              "            allowfullscreen\n",
              "        ></iframe>\n",
              "        "
            ],
            "text/plain": [
              "<IPython.lib.display.IFrame at 0x7ff720c1dad0>"
            ]
          },
          "metadata": {},
          "execution_count": 7
        }
      ]
    },
    {
      "cell_type": "markdown",
      "metadata": {
        "id": "jJrf4PazedgL"
      },
      "source": [
        "### 3. Generate a table with the percentage of missing values for each sample.\n"
      ]
    },
    {
      "cell_type": "markdown",
      "metadata": {
        "id": "DGJ3T9aKCbln"
      },
      "source": [
        "we will use the bcftools program to obtain stats"
      ]
    },
    {
      "cell_type": "code",
      "metadata": {
        "id": "OMxcqA_8X1ZS",
        "colab": {
          "base_uri": "https://localhost:8080/"
        },
        "outputId": "a3f19389-dfa7-4648-9653-96d83996bb84"
      },
      "source": [
        "!apt-get install -y bcftools"
      ],
      "execution_count": 8,
      "outputs": [
        {
          "output_type": "stream",
          "name": "stdout",
          "text": [
            "Reading package lists... Done\n",
            "Building dependency tree       \n",
            "Reading state information... Done\n",
            "The following additional packages will be installed:\n",
            "  libhts2\n",
            "Suggested packages:\n",
            "  python-matplotlib texlive-latex-recommended\n",
            "The following NEW packages will be installed:\n",
            "  bcftools libhts2\n",
            "0 upgraded, 2 newly installed, 0 to remove and 37 not upgraded.\n",
            "Need to get 802 kB of archives.\n",
            "After this operation, 2,426 kB of additional disk space will be used.\n",
            "Get:1 http://archive.ubuntu.com/ubuntu bionic/universe amd64 libhts2 amd64 1.7-2 [300 kB]\n",
            "Get:2 http://archive.ubuntu.com/ubuntu bionic/universe amd64 bcftools amd64 1.7-2 [503 kB]\n",
            "Fetched 802 kB in 1s (941 kB/s)\n",
            "Selecting previously unselected package libhts2:amd64.\n",
            "(Reading database ... 155047 files and directories currently installed.)\n",
            "Preparing to unpack .../libhts2_1.7-2_amd64.deb ...\n",
            "Unpacking libhts2:amd64 (1.7-2) ...\n",
            "Selecting previously unselected package bcftools.\n",
            "Preparing to unpack .../bcftools_1.7-2_amd64.deb ...\n",
            "Unpacking bcftools (1.7-2) ...\n",
            "Setting up libhts2:amd64 (1.7-2) ...\n",
            "Setting up bcftools (1.7-2) ...\n",
            "Processing triggers for man-db (2.8.3-2ubuntu0.1) ...\n",
            "Processing triggers for libc-bin (2.27-3ubuntu1.3) ...\n",
            "/sbin/ldconfig.real: /usr/local/lib/python3.7/dist-packages/ideep4py/lib/libmkldnn.so.0 is not a symbolic link\n",
            "\n"
          ]
        }
      ]
    },
    {
      "cell_type": "code",
      "metadata": {
        "id": "mlfMxpXwehvP"
      },
      "source": [
        "!bcftools stats -s - Variants_file.vcf.gz > Variants_file_stats.vchk"
      ],
      "execution_count": 9,
      "outputs": []
    },
    {
      "cell_type": "markdown",
      "metadata": {
        "id": "W-A92hNsDArH"
      },
      "source": [
        "we parse Variants_file_stats.vchk to get the total number of records"
      ]
    },
    {
      "cell_type": "code",
      "metadata": {
        "colab": {
          "base_uri": "https://localhost:8080/"
        },
        "id": "froh5wwqCzpi",
        "outputId": "b5aabbbf-b512-418a-a7bb-12fae3bd89a7"
      },
      "source": [
        "with open('Variants_file_stats.vchk') as f:\n",
        "     n_records = [int(line.split(sep=\"\\t\")[-1].strip()) for line in f.readlines() if 'number of records:' in line][0]\n",
        "\n",
        "n_records"
      ],
      "execution_count": 11,
      "outputs": [
        {
          "output_type": "execute_result",
          "data": {
            "text/plain": [
              "4113"
            ]
          },
          "metadata": {},
          "execution_count": 11
        }
      ]
    },
    {
      "cell_type": "markdown",
      "metadata": {
        "id": "aGHicIynDXFK"
      },
      "source": [
        "We obtain the total number of missings for each sample"
      ]
    },
    {
      "cell_type": "code",
      "metadata": {
        "colab": {
          "base_uri": "https://localhost:8080/",
          "height": 419
        },
        "id": "j1fMV9d9DRWx",
        "outputId": "78370a8e-65c6-45ae-ddcd-4ebdfd638f58"
      },
      "source": [
        "df=pd.read_csv(\"Variants_file_stats.vchk\",\n",
        "               sep=\"\\t\",\n",
        "               skiprows=402,\n",
        "               nrows=len(vcf_reader.samples),\n",
        "               usecols=['[3]sample','[14]nMissing'])\n",
        "df"
      ],
      "execution_count": 14,
      "outputs": [
        {
          "output_type": "execute_result",
          "data": {
            "text/html": [
              "<div>\n",
              "<style scoped>\n",
              "    .dataframe tbody tr th:only-of-type {\n",
              "        vertical-align: middle;\n",
              "    }\n",
              "\n",
              "    .dataframe tbody tr th {\n",
              "        vertical-align: top;\n",
              "    }\n",
              "\n",
              "    .dataframe thead th {\n",
              "        text-align: right;\n",
              "    }\n",
              "</style>\n",
              "<table border=\"1\" class=\"dataframe\">\n",
              "  <thead>\n",
              "    <tr style=\"text-align: right;\">\n",
              "      <th></th>\n",
              "      <th>[3]sample</th>\n",
              "      <th>[14]nMissing</th>\n",
              "    </tr>\n",
              "  </thead>\n",
              "  <tbody>\n",
              "    <tr>\n",
              "      <th>0</th>\n",
              "      <td>36-CT180742-A01-D05</td>\n",
              "      <td>13</td>\n",
              "    </tr>\n",
              "    <tr>\n",
              "      <th>1</th>\n",
              "      <td>184-CT180920-B01-H11</td>\n",
              "      <td>9</td>\n",
              "    </tr>\n",
              "    <tr>\n",
              "      <th>2</th>\n",
              "      <td>182-CT180680-B01-F11</td>\n",
              "      <td>27</td>\n",
              "    </tr>\n",
              "    <tr>\n",
              "      <th>3</th>\n",
              "      <td>181-CT180337-B01-E11</td>\n",
              "      <td>58</td>\n",
              "    </tr>\n",
              "    <tr>\n",
              "      <th>4</th>\n",
              "      <td>73-CT182941-A01-A10</td>\n",
              "      <td>37</td>\n",
              "    </tr>\n",
              "    <tr>\n",
              "      <th>...</th>\n",
              "      <td>...</td>\n",
              "      <td>...</td>\n",
              "    </tr>\n",
              "    <tr>\n",
              "      <th>78</th>\n",
              "      <td>53-CT182006-A01-E07</td>\n",
              "      <td>87</td>\n",
              "    </tr>\n",
              "    <tr>\n",
              "      <th>79</th>\n",
              "      <td>52-CT181983-A01-D07</td>\n",
              "      <td>61</td>\n",
              "    </tr>\n",
              "    <tr>\n",
              "      <th>80</th>\n",
              "      <td>54-CT182121-A01-F07</td>\n",
              "      <td>61</td>\n",
              "    </tr>\n",
              "    <tr>\n",
              "      <th>81</th>\n",
              "      <td>189-CT182642-B01-E12</td>\n",
              "      <td>71</td>\n",
              "    </tr>\n",
              "    <tr>\n",
              "      <th>82</th>\n",
              "      <td>58-CT182347-A01-B08</td>\n",
              "      <td>112</td>\n",
              "    </tr>\n",
              "  </tbody>\n",
              "</table>\n",
              "<p>83 rows × 2 columns</p>\n",
              "</div>"
            ],
            "text/plain": [
              "               [3]sample  [14]nMissing\n",
              "0    36-CT180742-A01-D05            13\n",
              "1   184-CT180920-B01-H11             9\n",
              "2   182-CT180680-B01-F11            27\n",
              "3   181-CT180337-B01-E11            58\n",
              "4    73-CT182941-A01-A10            37\n",
              "..                   ...           ...\n",
              "78   53-CT182006-A01-E07            87\n",
              "79   52-CT181983-A01-D07            61\n",
              "80   54-CT182121-A01-F07            61\n",
              "81  189-CT182642-B01-E12            71\n",
              "82   58-CT182347-A01-B08           112\n",
              "\n",
              "[83 rows x 2 columns]"
            ]
          },
          "metadata": {},
          "execution_count": 14
        }
      ]
    },
    {
      "cell_type": "markdown",
      "metadata": {
        "id": "W6DuAY9UDWZV"
      },
      "source": [
        "We calculate the percentage"
      ]
    },
    {
      "cell_type": "code",
      "metadata": {
        "colab": {
          "base_uri": "https://localhost:8080/",
          "height": 419
        },
        "id": "5e7ntvK-bBHN",
        "outputId": "ba0773ea-b7bf-430b-9a01-791018a0aa99"
      },
      "source": [
        "df[\"[14]nMissing\"] = df[\"[14]nMissing\"].apply(lambda x: x/n_records*100)\n",
        "df.rename(columns={\"[14]nMissing\": \"missing_pct\", '[3]sample':'sample'}, inplace=True)\n",
        "df"
      ],
      "execution_count": 15,
      "outputs": [
        {
          "output_type": "execute_result",
          "data": {
            "text/html": [
              "<div>\n",
              "<style scoped>\n",
              "    .dataframe tbody tr th:only-of-type {\n",
              "        vertical-align: middle;\n",
              "    }\n",
              "\n",
              "    .dataframe tbody tr th {\n",
              "        vertical-align: top;\n",
              "    }\n",
              "\n",
              "    .dataframe thead th {\n",
              "        text-align: right;\n",
              "    }\n",
              "</style>\n",
              "<table border=\"1\" class=\"dataframe\">\n",
              "  <thead>\n",
              "    <tr style=\"text-align: right;\">\n",
              "      <th></th>\n",
              "      <th>sample</th>\n",
              "      <th>missing_pct</th>\n",
              "    </tr>\n",
              "  </thead>\n",
              "  <tbody>\n",
              "    <tr>\n",
              "      <th>0</th>\n",
              "      <td>36-CT180742-A01-D05</td>\n",
              "      <td>0.316071</td>\n",
              "    </tr>\n",
              "    <tr>\n",
              "      <th>1</th>\n",
              "      <td>184-CT180920-B01-H11</td>\n",
              "      <td>0.218818</td>\n",
              "    </tr>\n",
              "    <tr>\n",
              "      <th>2</th>\n",
              "      <td>182-CT180680-B01-F11</td>\n",
              "      <td>0.656455</td>\n",
              "    </tr>\n",
              "    <tr>\n",
              "      <th>3</th>\n",
              "      <td>181-CT180337-B01-E11</td>\n",
              "      <td>1.410163</td>\n",
              "    </tr>\n",
              "    <tr>\n",
              "      <th>4</th>\n",
              "      <td>73-CT182941-A01-A10</td>\n",
              "      <td>0.899587</td>\n",
              "    </tr>\n",
              "    <tr>\n",
              "      <th>...</th>\n",
              "      <td>...</td>\n",
              "      <td>...</td>\n",
              "    </tr>\n",
              "    <tr>\n",
              "      <th>78</th>\n",
              "      <td>53-CT182006-A01-E07</td>\n",
              "      <td>2.115244</td>\n",
              "    </tr>\n",
              "    <tr>\n",
              "      <th>79</th>\n",
              "      <td>52-CT181983-A01-D07</td>\n",
              "      <td>1.483102</td>\n",
              "    </tr>\n",
              "    <tr>\n",
              "      <th>80</th>\n",
              "      <td>54-CT182121-A01-F07</td>\n",
              "      <td>1.483102</td>\n",
              "    </tr>\n",
              "    <tr>\n",
              "      <th>81</th>\n",
              "      <td>189-CT182642-B01-E12</td>\n",
              "      <td>1.726234</td>\n",
              "    </tr>\n",
              "    <tr>\n",
              "      <th>82</th>\n",
              "      <td>58-CT182347-A01-B08</td>\n",
              "      <td>2.723073</td>\n",
              "    </tr>\n",
              "  </tbody>\n",
              "</table>\n",
              "<p>83 rows × 2 columns</p>\n",
              "</div>"
            ],
            "text/plain": [
              "                  sample  missing_pct\n",
              "0    36-CT180742-A01-D05     0.316071\n",
              "1   184-CT180920-B01-H11     0.218818\n",
              "2   182-CT180680-B01-F11     0.656455\n",
              "3   181-CT180337-B01-E11     1.410163\n",
              "4    73-CT182941-A01-A10     0.899587\n",
              "..                   ...          ...\n",
              "78   53-CT182006-A01-E07     2.115244\n",
              "79   52-CT181983-A01-D07     1.483102\n",
              "80   54-CT182121-A01-F07     1.483102\n",
              "81  189-CT182642-B01-E12     1.726234\n",
              "82   58-CT182347-A01-B08     2.723073\n",
              "\n",
              "[83 rows x 2 columns]"
            ]
          },
          "metadata": {},
          "execution_count": 15
        }
      ]
    },
    {
      "cell_type": "markdown",
      "metadata": {
        "id": "0-tm50IeDu29"
      },
      "source": [
        "we save the results in a file"
      ]
    },
    {
      "cell_type": "code",
      "metadata": {
        "id": "3qnvqhcypo3v"
      },
      "source": [
        "df.to_csv(\"missing_pct.tsv\",sep= \"\\t\")"
      ],
      "execution_count": 16,
      "outputs": []
    },
    {
      "cell_type": "markdown",
      "metadata": {
        "id": "PXLXvA-lmxBR"
      },
      "source": [
        "### 4. Show the clustering of the samples based on the variants included in the `VCF`. Describe the method you have chosen and justify it."
      ]
    },
    {
      "cell_type": "markdown",
      "metadata": {
        "id": "Q7AzXqksEUSo"
      },
      "source": [
        "Unzip the file using gunzip"
      ]
    },
    {
      "cell_type": "code",
      "metadata": {
        "id": "1ROkRclRyjJZ"
      },
      "source": [
        "!gunzip -c Variants_file.vcf.gz >  Variants_file.vcf"
      ],
      "execution_count": 17,
      "outputs": []
    },
    {
      "cell_type": "markdown",
      "metadata": {
        "id": "NzSl5QsrEpUM"
      },
      "source": [
        "In the following steps we will use code in R.\n",
        "\n",
        "We install the necessary libraries, It will take a few minutes:"
      ]
    },
    {
      "cell_type": "code",
      "metadata": {
        "id": "oKNEmKzjxdRi",
        "colab": {
          "base_uri": "https://localhost:8080/"
        },
        "outputId": "44ee205a-ce9f-4fc5-cb76-8cf136e6e8eb"
      },
      "source": [
        "%%R\n",
        "if (!requireNamespace(\"BiocManager\", quietly = TRUE))\n",
        "    install.packages(\"BiocManager\")\n",
        "BiocManager::install(c(\"gdsfmt\",\"SNPRelate\"))"
      ],
      "execution_count": 18,
      "outputs": [
        {
          "output_type": "stream",
          "name": "stderr",
          "text": [
            "R[write to console]: Installing package into ‘/usr/local/lib/R/site-library’\n",
            "(as ‘lib’ is unspecified)\n",
            "\n",
            "R[write to console]: trying URL 'https://cran.rstudio.com/src/contrib/BiocManager_1.30.16.tar.gz'\n",
            "\n",
            "R[write to console]: Content type 'application/x-gzip'\n",
            "R[write to console]:  length 262502 bytes (256 KB)\n",
            "\n",
            "R[write to console]: =\n",
            "R[write to console]: =\n",
            "R[write to console]: =\n",
            "R[write to console]: =\n",
            "R[write to console]: =\n",
            "R[write to console]: =\n",
            "R[write to console]: =\n",
            "R[write to console]: =\n",
            "R[write to console]: =\n",
            "R[write to console]: =\n",
            "R[write to console]: =\n",
            "R[write to console]: =\n",
            "R[write to console]: =\n",
            "R[write to console]: =\n",
            "R[write to console]: =\n",
            "R[write to console]: =\n",
            "R[write to console]: =\n",
            "R[write to console]: =\n",
            "R[write to console]: =\n",
            "R[write to console]: =\n",
            "R[write to console]: =\n",
            "R[write to console]: =\n",
            "R[write to console]: =\n",
            "R[write to console]: =\n",
            "R[write to console]: =\n",
            "R[write to console]: =\n",
            "R[write to console]: =\n",
            "R[write to console]: =\n",
            "R[write to console]: =\n",
            "R[write to console]: =\n",
            "R[write to console]: =\n",
            "R[write to console]: =\n",
            "R[write to console]: =\n",
            "R[write to console]: =\n",
            "R[write to console]: =\n",
            "R[write to console]: =\n",
            "R[write to console]: =\n",
            "R[write to console]: =\n",
            "R[write to console]: =\n",
            "R[write to console]: =\n",
            "R[write to console]: =\n",
            "R[write to console]: =\n",
            "R[write to console]: =\n",
            "R[write to console]: =\n",
            "R[write to console]: =\n",
            "R[write to console]: =\n",
            "R[write to console]: =\n",
            "R[write to console]: =\n",
            "R[write to console]: =\n",
            "R[write to console]: =\n",
            "R[write to console]: \n",
            "\n",
            "R[write to console]: downloaded 256 KB\n",
            "\n",
            "\n",
            "R[write to console]: \n",
            "\n",
            "R[write to console]: \n",
            "R[write to console]: The downloaded source packages are in\n",
            "\t‘/tmp/RtmpKgk5I3/downloaded_packages’\n",
            "R[write to console]: \n",
            "R[write to console]: \n",
            "\n",
            "R[write to console]: 'getOption(\"repos\")' replaces Bioconductor standard repositories, see\n",
            "'?repositories' for details\n",
            "\n",
            "replacement repositories:\n",
            "    CRAN: https://cran.rstudio.com\n",
            "\n",
            "\n",
            "R[write to console]: Bioconductor version 3.13 (BiocManager 1.30.16), R 4.1.1 (2021-08-10)\n",
            "\n",
            "R[write to console]: Installing package(s) 'BiocVersion', 'gdsfmt', 'SNPRelate'\n",
            "\n",
            "R[write to console]: trying URL 'https://bioconductor.org/packages/3.13/bioc/src/contrib/BiocVersion_3.13.1.tar.gz'\n",
            "\n",
            "R[write to console]: Content type 'application/x-gzip'\n",
            "R[write to console]:  length 985 bytes\n",
            "\n",
            "R[write to console]: =\n",
            "R[write to console]: =\n",
            "R[write to console]: =\n",
            "R[write to console]: =\n",
            "R[write to console]: =\n",
            "R[write to console]: =\n",
            "R[write to console]: =\n",
            "R[write to console]: =\n",
            "R[write to console]: =\n",
            "R[write to console]: =\n",
            "R[write to console]: =\n",
            "R[write to console]: =\n",
            "R[write to console]: =\n",
            "R[write to console]: =\n",
            "R[write to console]: =\n",
            "R[write to console]: =\n",
            "R[write to console]: =\n",
            "R[write to console]: =\n",
            "R[write to console]: =\n",
            "R[write to console]: =\n",
            "R[write to console]: =\n",
            "R[write to console]: =\n",
            "R[write to console]: =\n",
            "R[write to console]: =\n",
            "R[write to console]: =\n",
            "R[write to console]: =\n",
            "R[write to console]: =\n",
            "R[write to console]: =\n",
            "R[write to console]: =\n",
            "R[write to console]: =\n",
            "R[write to console]: =\n",
            "R[write to console]: =\n",
            "R[write to console]: =\n",
            "R[write to console]: =\n",
            "R[write to console]: =\n",
            "R[write to console]: =\n",
            "R[write to console]: =\n",
            "R[write to console]: =\n",
            "R[write to console]: =\n",
            "R[write to console]: =\n",
            "R[write to console]: =\n",
            "R[write to console]: =\n",
            "R[write to console]: =\n",
            "R[write to console]: =\n",
            "R[write to console]: =\n",
            "R[write to console]: =\n",
            "R[write to console]: =\n",
            "R[write to console]: =\n",
            "R[write to console]: =\n",
            "R[write to console]: =\n",
            "R[write to console]: \n",
            "\n",
            "R[write to console]: downloaded 985 bytes\n",
            "\n",
            "\n",
            "R[write to console]: trying URL 'https://bioconductor.org/packages/3.13/bioc/src/contrib/gdsfmt_1.28.1.tar.gz'\n",
            "\n",
            "R[write to console]: Content type 'application/x-gzip'\n",
            "R[write to console]:  length 3009899 bytes (2.9 MB)\n",
            "\n",
            "R[write to console]: =\n",
            "R[write to console]: =\n",
            "R[write to console]: =\n",
            "R[write to console]: =\n",
            "R[write to console]: =\n",
            "R[write to console]: =\n",
            "R[write to console]: =\n",
            "R[write to console]: =\n",
            "R[write to console]: =\n",
            "R[write to console]: =\n",
            "R[write to console]: =\n",
            "R[write to console]: =\n",
            "R[write to console]: =\n",
            "R[write to console]: =\n",
            "R[write to console]: =\n",
            "R[write to console]: =\n",
            "R[write to console]: =\n",
            "R[write to console]: =\n",
            "R[write to console]: =\n",
            "R[write to console]: =\n",
            "R[write to console]: =\n",
            "R[write to console]: =\n",
            "R[write to console]: =\n",
            "R[write to console]: =\n",
            "R[write to console]: =\n",
            "R[write to console]: =\n",
            "R[write to console]: =\n",
            "R[write to console]: =\n",
            "R[write to console]: =\n",
            "R[write to console]: =\n",
            "R[write to console]: =\n",
            "R[write to console]: =\n",
            "R[write to console]: =\n",
            "R[write to console]: =\n",
            "R[write to console]: =\n",
            "R[write to console]: =\n",
            "R[write to console]: =\n",
            "R[write to console]: =\n",
            "R[write to console]: =\n",
            "R[write to console]: =\n",
            "R[write to console]: =\n",
            "R[write to console]: =\n",
            "R[write to console]: =\n",
            "R[write to console]: =\n",
            "R[write to console]: =\n",
            "R[write to console]: =\n",
            "R[write to console]: =\n",
            "R[write to console]: =\n",
            "R[write to console]: =\n",
            "R[write to console]: =\n",
            "R[write to console]: \n",
            "\n",
            "R[write to console]: downloaded 2.9 MB\n",
            "\n",
            "\n",
            "R[write to console]: trying URL 'https://bioconductor.org/packages/3.13/bioc/src/contrib/SNPRelate_1.26.0.tar.gz'\n",
            "\n",
            "R[write to console]: Content type 'application/x-gzip'\n",
            "R[write to console]:  length 3192998 bytes (3.0 MB)\n",
            "\n",
            "R[write to console]: =\n",
            "R[write to console]: =\n",
            "R[write to console]: =\n",
            "R[write to console]: =\n",
            "R[write to console]: =\n",
            "R[write to console]: =\n",
            "R[write to console]: =\n",
            "R[write to console]: =\n",
            "R[write to console]: =\n",
            "R[write to console]: =\n",
            "R[write to console]: =\n",
            "R[write to console]: =\n",
            "R[write to console]: =\n",
            "R[write to console]: =\n",
            "R[write to console]: =\n",
            "R[write to console]: =\n",
            "R[write to console]: =\n",
            "R[write to console]: =\n",
            "R[write to console]: =\n",
            "R[write to console]: =\n",
            "R[write to console]: =\n",
            "R[write to console]: =\n",
            "R[write to console]: =\n",
            "R[write to console]: =\n",
            "R[write to console]: =\n",
            "R[write to console]: =\n",
            "R[write to console]: =\n",
            "R[write to console]: =\n",
            "R[write to console]: =\n",
            "R[write to console]: =\n",
            "R[write to console]: =\n",
            "R[write to console]: =\n",
            "R[write to console]: =\n",
            "R[write to console]: =\n",
            "R[write to console]: =\n",
            "R[write to console]: =\n",
            "R[write to console]: =\n",
            "R[write to console]: =\n",
            "R[write to console]: =\n",
            "R[write to console]: =\n",
            "R[write to console]: =\n",
            "R[write to console]: =\n",
            "R[write to console]: =\n",
            "R[write to console]: =\n",
            "R[write to console]: =\n",
            "R[write to console]: =\n",
            "R[write to console]: =\n",
            "R[write to console]: =\n",
            "R[write to console]: =\n",
            "R[write to console]: =\n",
            "R[write to console]: \n",
            "\n",
            "R[write to console]: downloaded 3.0 MB\n",
            "\n",
            "\n",
            "R[write to console]: \n",
            "\n",
            "R[write to console]: \n",
            "R[write to console]: The downloaded source packages are in\n",
            "\t‘/tmp/RtmpKgk5I3/downloaded_packages’\n",
            "R[write to console]: \n",
            "R[write to console]: \n",
            "\n",
            "R[write to console]: Old packages: 'cpp11', 'data.table', 'desc', 'diffobj', 'digest', 'hms',\n",
            "  'knitr', 'lifecycle', 'lubridate', 'mime', 'openssl', 'pillar', 'rcmdcheck',\n",
            "  'readr', 'remotes', 'stringi', 'systemfonts', 'testthat', 'tibble', 'tidyr',\n",
            "  'tinytex', 'mgcv', 'nlme'\n",
            "\n"
          ]
        },
        {
          "name": "stdout",
          "output_type": "stream",
          "text": [
            "Update all/some/none? [a/s/n]: n\n"
          ]
        }
      ]
    },
    {
      "cell_type": "code",
      "metadata": {
        "colab": {
          "base_uri": "https://localhost:8080/"
        },
        "id": "zLwXcs9fx9qA",
        "outputId": "7ce10ec8-3160-484d-e12d-429f319ee17a"
      },
      "source": [
        "%%R\n",
        "library(ggplot2)\n",
        "library(gdsfmt)\n",
        "library(SNPRelate)"
      ],
      "execution_count": 19,
      "outputs": [
        {
          "output_type": "stream",
          "name": "stderr",
          "text": [
            "R[write to console]: SNPRelate -- supported by Streaming SIMD Extensions 2 (SSE2)\n",
            "\n"
          ]
        }
      ]
    },
    {
      "cell_type": "markdown",
      "metadata": {
        "id": "u2W1oEJC-rEZ"
      },
      "source": [
        "Parsing\n",
        "\n",
        "The next command will turn the VCF file into a less data intensive form (GDS) for easier computing."
      ]
    },
    {
      "cell_type": "code",
      "metadata": {
        "colab": {
          "base_uri": "https://localhost:8080/"
        },
        "id": "XEtypCH_0-9V",
        "outputId": "e2026290-51b2-4bee-ac74-b04b60fca3d5"
      },
      "source": [
        "%%R\n",
        "snpgdsVCF2GDS(\"Variants_file.vcf\",\"Variants_file.gds\",method =\"biallelic.only\")"
      ],
      "execution_count": 20,
      "outputs": [
        {
          "output_type": "stream",
          "name": "stdout",
          "text": [
            "Start file conversion from VCF to SNP GDS ...\n",
            "Method: extracting biallelic SNPs\n",
            "Number of samples: 83\n",
            "Parsing \"Variants_file.vcf\" ...\n",
            "\timport 4113 variants.\n",
            "+ genotype   { Bit2 83x4113, 83.3K } *\n",
            "Optimize the access efficiency ...\n",
            "Clean up the fragments of GDS file:\n",
            "    open the file 'Variants_file.gds' (119.1K)\n",
            "    # of fragments: 46\n",
            "    save to 'Variants_file.gds.tmp'\n",
            "    rename 'Variants_file.gds.tmp' (118.8K, reduced: 312B)\n",
            "    # of fragments: 20\n"
          ]
        }
      ]
    },
    {
      "cell_type": "markdown",
      "metadata": {
        "id": "5vrApPob-uMu"
      },
      "source": [
        "Formatting for IBS matrix\n",
        "\n",
        "we prepare the data so it is formatted correctly to create a Identity by State matrix (fraction of identity by state for each pair of samples)."
      ]
    },
    {
      "cell_type": "code",
      "metadata": {
        "colab": {
          "base_uri": "https://localhost:8080/"
        },
        "id": "QkvPj2Ao0-6T",
        "outputId": "84049c5a-dbba-421e-c5e3-d806b642f01f"
      },
      "source": [
        "%%R\n",
        "# Open a GDS file\n",
        "genofile<-snpgdsOpen(\"Variants_file.gds\")"
      ],
      "execution_count": 21,
      "outputs": [
        {
          "output_type": "stream",
          "name": "stdout",
          "text": [
            "Identity-By-State (IBS) analysis on genotypes:\n",
            "Excluding 177 SNPs (monomorphic: TRUE, MAF: NaN, missing rate: NaN)\n",
            "    # of samples: 83\n",
            "    # of SNPs: 3,936\n",
            "    using 2 threads\n",
            "IBS:    the sum of all selected genotypes (0,1,2) = 492905\n",
            "Wed Oct 13 14:38:04 2021    (internal increment: 65536)\n",
            "[==================================================] 100%, completed, 0s\n",
            "Wed Oct 13 14:38:04 2021    Done.\n"
          ]
        }
      ]
    },
    {
      "cell_type": "markdown",
      "metadata": {
        "id": "vQ9uwXGdXXrL"
      },
      "source": [
        "We perform cluster analysis on the n×n matrix of genome-wide IBS pairwise distances, and determine the groups by a permutation score:"
      ]
    },
    {
      "cell_type": "code",
      "metadata": {
        "id": "abTmF3bPXW9o"
      },
      "source": [
        "set.seed(100)\n",
        "ibs.hc<-snpgdsHCluster(snpgdsIBS(genofile,num.thread=2, autosome.only=FALSE))"
      ],
      "execution_count": null,
      "outputs": []
    },
    {
      "cell_type": "markdown",
      "metadata": {
        "id": "uWBoz0zs-yRa"
      },
      "source": [
        "Turn the clustering into a tree file and plotting tree.\n",
        "\n",
        "This step takes the clustering results from before and turns the numerical values into a dendrogram"
      ]
    },
    {
      "cell_type": "code",
      "metadata": {
        "colab": {
          "base_uri": "https://localhost:8080/"
        },
        "id": "lf6WnQGF1LKw",
        "outputId": "73b49fa7-435f-4951-fac9-610494f53612"
      },
      "source": [
        "%%R\n",
        "# Determine groups of individuals automatically\n",
        "rv <- snpgdsCutTree(ibs.hc)"
      ],
      "execution_count": 34,
      "outputs": [
        {
          "output_type": "stream",
          "name": "stdout",
          "text": [
            "Determine groups by permutation (Z threshold: 15, outlier threshold: 5):\n",
            "Create 1 groups.\n"
          ]
        }
      ]
    },
    {
      "cell_type": "markdown",
      "metadata": {
        "id": "bTOFn8PZ-2SH"
      },
      "source": [
        "plot dendogram"
      ]
    },
    {
      "cell_type": "code",
      "metadata": {
        "colab": {
          "base_uri": "https://localhost:8080/"
        },
        "id": "9acFefzh1LSV",
        "outputId": "523366c1-759f-4be3-cfb0-8abb5f827506"
      },
      "source": [
        "%%R\n",
        "pdf(file = \"Dendrogram_based_on_IBS.pdf\", width = 15,height = 15)\n",
        "plot(rv$dendrogram,main=\"Dendrogram based on IBS\", )\n",
        "dev.off()"
      ],
      "execution_count": 23,
      "outputs": [
        {
          "output_type": "stream",
          "name": "stdout",
          "text": [
            "png \n",
            "  2 \n"
          ]
        }
      ]
    },
    {
      "cell_type": "markdown",
      "metadata": {
        "id": "Z7BO0C61_AdM"
      },
      "source": [
        "Dissimilarity matrices\n",
        "\n",
        "This command creates an dissimilarity matrix between all the samples.\n"
      ]
    },
    {
      "cell_type": "markdown",
      "metadata": {
        "id": "dqt-P521_C8b"
      },
      "source": [
        "Clustering Analysis\n",
        "\n",
        "\n",
        "This step performs a clustering analysis similar to the IBS analysis above but using dissimilarity. The next line creates a tree file based on dissimilarity rather than relatedness."
      ]
    },
    {
      "cell_type": "code",
      "metadata": {
        "colab": {
          "base_uri": "https://localhost:8080/"
        },
        "id": "8IEJHax91LU_",
        "outputId": "63d50078-df7c-46d9-8465-bc3dd82aa4a1"
      },
      "source": [
        "%%R\n",
        "# Calculate the individual dissimilarities for each pair of individuals.\n",
        "dissMatrix  <-  snpgdsDiss(genofile , \n",
        "                          sample.id=NULL, \n",
        "                          autosome.only=FALSE,\n",
        "                          remove.monosnp=TRUE,  \n",
        "                          maf=NaN, \n",
        "                          missing.rate=NaN, \n",
        "                          num.thread=2, \n",
        "                          verbose=TRUE)"
      ],
      "execution_count": 24,
      "outputs": [
        {
          "output_type": "stream",
          "name": "stdout",
          "text": [
            "Individual dissimilarity analysis on genotypes:\n",
            "Excluding 177 SNPs (monomorphic: TRUE, MAF: NaN, missing rate: NaN)\n",
            "    # of samples: 83\n",
            "    # of SNPs: 3,936\n",
            "    using 2 threads\n",
            "Dissimilarity:    the sum of all selected genotypes (0,1,2) = 492905\n",
            "Dissimilarity:\tWed Oct 13 14:40:10 2021\t0%\n",
            "Dissimilarity:\tWed Oct 13 14:40:10 2021\t100%\n"
          ]
        }
      ]
    },
    {
      "cell_type": "markdown",
      "metadata": {
        "id": "q3hjr-KDG3o5"
      },
      "source": [
        "Perform hierarchical cluster analysis on the dissimilarity matrix."
      ]
    },
    {
      "cell_type": "code",
      "metadata": {
        "id": "msJvxTP41LXe"
      },
      "source": [
        "%%R\n",
        "snpHCluster =  snpgdsHCluster(dissMatrix, \n",
        "                              sample.id=NULL, \n",
        "                              need.mat=TRUE, \n",
        "                              hang=0.01)"
      ],
      "execution_count": 25,
      "outputs": []
    },
    {
      "cell_type": "markdown",
      "metadata": {
        "id": "jb8h_wpDG_24"
      },
      "source": [
        "To determine sub groups of individuals using a specified dendrogram from hierarchical cluster analysis"
      ]
    },
    {
      "cell_type": "code",
      "metadata": {
        "colab": {
          "base_uri": "https://localhost:8080/"
        },
        "id": "4yXRfKX41moo",
        "outputId": "5c155cb0-17f4-417c-c472-37f69b261a9d"
      },
      "source": [
        "%%R\n",
        "cutTree = snpgdsCutTree(snpHCluster, verbose=TRUE)"
      ],
      "execution_count": 26,
      "outputs": [
        {
          "output_type": "stream",
          "name": "stdout",
          "text": [
            "Determine groups by permutation (Z threshold: 15, outlier threshold: 5):\n",
            "Create 1 groups.\n"
          ]
        }
      ]
    },
    {
      "cell_type": "code",
      "metadata": {
        "id": "-A6n41zp1mrO"
      },
      "source": [
        "%%R\n",
        "snpgdsClose(genofile)"
      ],
      "execution_count": 27,
      "outputs": []
    },
    {
      "cell_type": "markdown",
      "metadata": {
        "id": "CMUzWo8qGZMd"
      },
      "source": [
        "Displaying a tree based on dissimilarity"
      ]
    },
    {
      "cell_type": "code",
      "metadata": {
        "colab": {
          "base_uri": "https://localhost:8080/"
        },
        "id": "Nzt-wmFi1muB",
        "outputId": "52dd5d56-25c3-4065-db67-f27d3e616a0f"
      },
      "source": [
        "%%R\n",
        "pdf(file = \"Dendrogram_based_on_dissimilarity.pdf\", width = 15,height = 15)\n",
        "snpgdsDrawTree(cutTree, \n",
        "               main = \"Dendrogram based on dissimilarity\",\n",
        "               y.label.kinship=T,\n",
        "               leaflab=\"perpendicular\",\n",
        "               yaxis.kinship=F)\n",
        "\n",
        "dev.off()"
      ],
      "execution_count": 29,
      "outputs": [
        {
          "output_type": "stream",
          "name": "stdout",
          "text": [
            "png \n",
            "  2 \n"
          ]
        }
      ]
    },
    {
      "cell_type": "markdown",
      "metadata": {
        "id": "CYGa26nX0Hht"
      },
      "source": [
        "### 5. Generate a new `VCF` removing the variants with a `MAF` value higher than 1%. Describe how you generated it."
      ]
    },
    {
      "cell_type": "code",
      "metadata": {
        "colab": {
          "base_uri": "https://localhost:8080/"
        },
        "id": "w9pIKJn72NCz",
        "outputId": "b10020f3-c6b8-495c-acb5-64f07ed706d4"
      },
      "source": [
        "!apt-get install -y vcftools"
      ],
      "execution_count": 30,
      "outputs": [
        {
          "output_type": "stream",
          "name": "stdout",
          "text": [
            "Reading package lists... Done\n",
            "Building dependency tree       \n",
            "Reading state information... Done\n",
            "The following additional packages will be installed:\n",
            "  tabix\n",
            "The following NEW packages will be installed:\n",
            "  tabix vcftools\n",
            "0 upgraded, 2 newly installed, 0 to remove and 37 not upgraded.\n",
            "Need to get 778 kB of archives.\n",
            "After this operation, 3,192 kB of additional disk space will be used.\n",
            "Get:1 http://archive.ubuntu.com/ubuntu bionic/universe amd64 tabix amd64 1.7-2 [326 kB]\n",
            "Get:2 http://archive.ubuntu.com/ubuntu bionic/universe amd64 vcftools amd64 0.1.15-1 [452 kB]\n",
            "Fetched 778 kB in 1s (954 kB/s)\n",
            "Selecting previously unselected package tabix.\n",
            "(Reading database ... 155094 files and directories currently installed.)\n",
            "Preparing to unpack .../archives/tabix_1.7-2_amd64.deb ...\n",
            "Unpacking tabix (1.7-2) ...\n",
            "Selecting previously unselected package vcftools.\n",
            "Preparing to unpack .../vcftools_0.1.15-1_amd64.deb ...\n",
            "Unpacking vcftools (0.1.15-1) ...\n",
            "Setting up vcftools (0.1.15-1) ...\n",
            "Setting up tabix (1.7-2) ...\n",
            "Processing triggers for man-db (2.8.3-2ubuntu0.1) ...\n"
          ]
        }
      ]
    },
    {
      "cell_type": "markdown",
      "metadata": {
        "id": "m_8gW6V7v6Wr"
      },
      "source": [
        "Include only sites with a Minor Allele Frequency less than or equal to \"--max-maf 0.01\".\n",
        "\n",
        "Allele frequency is defined as the number of times an allele appears over all individuals at that site, divided by the total number of non-missing alleles at that site."
      ]
    },
    {
      "cell_type": "code",
      "metadata": {
        "id": "B17hId0UvBEe",
        "colab": {
          "base_uri": "https://localhost:8080/"
        },
        "outputId": "97a82a00-0661-4bc3-cdc8-af5bc709d5e3"
      },
      "source": [
        "#Output a new vcf file from the input vcf file that removes sites with MAF greater than or equal to 0.01\n",
        "!vcftools --vcf Variants_file.vcf --max-maf 0.01 --recode --out Variants_file_maf"
      ],
      "execution_count": 31,
      "outputs": [
        {
          "output_type": "stream",
          "name": "stdout",
          "text": [
            "\n",
            "VCFtools - 0.1.15\n",
            "(C) Adam Auton and Anthony Marcketta 2009\n",
            "\n",
            "Parameters as interpreted:\n",
            "\t--vcf Variants_file.vcf\n",
            "\t--max-maf 0.01\n",
            "\t--out Variants_file_maf\n",
            "\t--recode\n",
            "\n",
            "After filtering, kept 83 out of 83 Individuals\n",
            "Outputting VCF file...\n",
            "After filtering, kept 323 out of a possible 4113 Sites\n",
            "Run Time = 1.00 seconds\n"
          ]
        }
      ]
    },
    {
      "cell_type": "markdown",
      "metadata": {
        "id": "rKZ4WN7swTAI"
      },
      "source": [
        "### 6. How many variants are left from the previous step? Describe how you calculated it."
      ]
    },
    {
      "cell_type": "code",
      "metadata": {
        "colab": {
          "base_uri": "https://localhost:8080/"
        },
        "id": "6Lnso3gV8VOS",
        "outputId": "a2dd4a75-95b4-4d93-dd7f-25387a55d629"
      },
      "source": [
        "!apt-get install -y sed"
      ],
      "execution_count": 32,
      "outputs": [
        {
          "output_type": "stream",
          "name": "stdout",
          "text": [
            "Reading package lists... Done\n",
            "Building dependency tree       \n",
            "Reading state information... Done\n",
            "sed is already the newest version (4.4-2).\n",
            "0 upgraded, 0 newly installed, 0 to remove and 37 not upgraded.\n"
          ]
        }
      ]
    },
    {
      "cell_type": "markdown",
      "metadata": {
        "id": "Kc9KVHfOZChl"
      },
      "source": [
        "`Variants_file_maf.log` tells us the number of variants. We extract the info with \"sed\""
      ]
    },
    {
      "cell_type": "code",
      "metadata": {
        "colab": {
          "base_uri": "https://localhost:8080/"
        },
        "id": "eDnLekNt8onN",
        "outputId": "2cfa1dcb-ba1d-42d6-b93a-17929ca2dfca"
      },
      "source": [
        "!sed 'x;$!d' <Variants_file_maf.log"
      ],
      "execution_count": 33,
      "outputs": [
        {
          "output_type": "stream",
          "name": "stdout",
          "text": [
            "After filtering, kept 323 out of a possible 4113 Sites\n"
          ]
        }
      ]
    }
  ]
}